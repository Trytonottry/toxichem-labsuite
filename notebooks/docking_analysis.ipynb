{
  "cells": [
    {
      "cell_type": "markdown",
      "source": [
        "# 🔗 Docking Analysis: Toxin vs. Protein"
      ]
    },
    {
      "cell_type": "code",
      "source": [
        "import subprocess\n",
        "import os\n",
        "from rdkit import Chem\n",
        "from rdkit.Chem import AllChem"
      ]
    },
    {
      "cell_type": "code",
      "source": [
        "def smiles_to_pdbqt(smiles, name=\"ligand\"):\n",
        "    mol = Chem.MolFromSmiles(smiles)\n",
        "    mol = Chem.AddHs(mol)\n",
        "    AllChem.EmbedMolecule(mol)\n",
        "    Chem.MolToMolFile(mol, f'{name}.mol')\n",
        "    # Требуется Open Babel: obabel *.mol -O ligand.pdbqt --partialcharge gasteiger\n",
        "    os.system(f'obabel {name}.mol -O {name}.pdbqt --partialcharge gasteiger')\n",
        "    return f'{name}.pdbqt'"
      ]
    },
    {
      "cell_type": "code",
      "source": [
        "smiles = \"C1=CC=C(C=C1)C=O\"\n",
        "ligand = smiles_to_pdbqt(smiles)\n",
        "print(f'Generated: {ligand}')"
      ]
    }
  ],
  "metadata": {
    "kernelspec": {
      "name": "python3",
      "display_name": "Python 3"
    }
  },
  "nbformat": 4,
  "nbformat_minor": 5
}