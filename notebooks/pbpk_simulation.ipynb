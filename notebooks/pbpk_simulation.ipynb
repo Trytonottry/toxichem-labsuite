{
  "cells": [
    {
      "cell_type": "markdown",
      "source": [
        "# 📈 PBPK Simulation Example"
      ]
    },
    {
      "cell_type": "code",
      "source": [
        "import numpy as np\n",
        "import matplotlib.pyplot as plt"
      ]
    },
    {
      "cell_type": "code",
      "source": [
        "def pbpk_model(dose, ke=0.1, Vd=0.7):\n",
        "    t = np.linspace(0, 24, 100)\n",
        "    C = (dose / Vd) * np.exp(-ke * t)\n",
        "    return t, C"
      ]
    },
    {
      "cell_type": "code",
      "source": [
        "t, C = pbpk_model(dose=100)\n",
        "plt.plot(t, C)\n",
        "plt.xlabel('Time (h)')\n",
        "plt.ylabel('Concentration (mg/L)')\n",
        "plt.title('PBPK: One-compartment model')\n",
        "plt.grid(True)\n",
        "plt.show()"
      ]
    }
  ],
  "metadata": {
    "kernelspec": {
      "name": "python3",
      "display_name": "Python 3"
    }
  },
  "nbformat": 4,
  "nbformat_minor": 5
}