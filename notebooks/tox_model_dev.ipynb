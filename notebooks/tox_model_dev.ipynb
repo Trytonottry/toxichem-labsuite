{
  "cells": [
    {
      "cell_type": "markdown",
      "source": [
        "# 🧪 ToxiChem: QSAR Model Development\n",
        "Train ML model to predict hERG inhibition"
      ]
    },
    {
      "cell_type": "code",
      "execution_count": null,
      "source": [
        "import pandas as pd\n",
        "import numpy as np\n",
        "from rdkit import Chem\n",
        "from rdkit.Chem import Descriptors, Lipinski\n",
        "from sklearn.ensemble import RandomForestClassifier\n",
        "from sklearn.model_selection import train_test_split\n",
        "from sklearn.metrics import roc_auc_score, classification_report\n",
        "import joblib"
      ],
      "outputs": []
    },
    {
      "cell_type": "code",
      "source": [
        "# Синтетические данные\n",
        "data = pd.DataFrame({\n",
        "    'smiles': [\n",
        "        'CN1C=NC2=C1C(=O)N(C(=O)N2C)C',  # кофеин\n",
        "        'CC(=O)OC1=CC=CC=C1C(=O)O',     # аспирин\n",
        "        'C1=CC=C(C=C1)C=O'              # бензальдегид\n",
        "    ],\n",
        "    'hERG_risk': [0, 0, 1]\n",
        "})"
      ],
      "outputs": []
    },
    {
      "cell_type": "code",
      "source": [
        "def featurize(smiles):\n",
        "    mol = Chem.MolFromSmiles(smiles)\n",
        "    if mol is None:\n",
        "        return None\n",
        "    return [\n",
        "        Descriptors.MolWt(mol),\n",
        "        Descriptors.MolLogP(mol),\n",
        "        Lipinski.HBondDonorCount(mol),\n",
        "        Lipinski.HBondAcceptorCount(mol),\n",
        "        Descriptors.TPSA(mol)\n",
        "    ]\n",
        "\n",
        "X = np.array([featurize(sm) for sm in data['smiles']])\n",
        "y = data['hERG_risk']"
      ],
      "outputs": []
    },
    {
      "cell_type": "code",
      "source": [
        "X_train, X_test, y_train, y_test = train_test_split(X, y, test_size=0.2)\n",
        "model = RandomForestClassifier(n_estimators=100)\n",
        "model.fit(X_train, y_train)\n",
        "\n",
        "preds = model.predict(X_test)\n",
        "proba = model.predict_proba(X_test)[:, 1]\n",
        "print('AUC:', roc_auc_score(y_test, proba))"
      ],
      "outputs": []
    },
    {
      "cell_type": "code",
      "source": [
        "joblib.dump(model, '../backend/ml_models/hERG_model.pkl')"
      ],
      "outputs": []
    }
  ],
  "metadata": {
    "kernelspec": {
      "display_name": "Python 3",
      "language": "python",
      "name": "python3"
    }
  },
  "nbformat": 4,
  "nbformat_minor": 5
}